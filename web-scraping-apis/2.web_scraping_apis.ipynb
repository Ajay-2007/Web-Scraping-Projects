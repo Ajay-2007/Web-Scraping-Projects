{
 "cells": [
  {
   "cell_type": "code",
   "execution_count": 14,
   "id": "3adf395a-34cb-4afc-858d-5e0b1123a1b6",
   "metadata": {},
   "outputs": [],
   "source": [
    "import requests\n",
    "import pandas as pd"
   ]
  },
  {
   "cell_type": "code",
   "execution_count": 15,
   "id": "da749da3-132d-4870-9167-3ee9c2ee284a",
   "metadata": {},
   "outputs": [],
   "source": [
    "cookies = {\n",
    "    'ec': 'eyJlZGdlVXNlckFnZW50IjoiTW96aWxsYS81LjAgKFgxMTsgTGludXggeDg2XzY0KSBBcHBsZVdlYktpdC81MzcuMzYgKEtIVE1MLCBsaWtlIEdlY2tvKSBDaHJvbWUvOTkuMC40ODQ0LjUxIFNhZmFyaS81MzcuMzYifQ==',\n",
    "    'client_guid_timestamp': 'f50f959c-c073-402d-8023-c9c017d3933e.1656158421008',\n",
    "    '_fbp': 'fb.1.1656158422343.1602497926',\n",
    "}\n",
    "\n",
    "headers = {\n",
    "    'authority': 'www.autolist.com',\n",
    "    'accept': '*/*',\n",
    "    'x-requested-with': 'XMLHttpRequest',\n",
    "    'x-autolist-session-guid': '063ccc8a-6342-4a6a-ba35-840e4580f58a',\n",
    "    'user-agent': 'Mozilla/5.0 (X11; Linux x86_64) AppleWebKit/537.36 (KHTML, like Gecko) Chrome/99.0.4844.51 Safari/537.36',\n",
    "    'sec-gpc': '1',\n",
    "    'sec-fetch-site': 'same-origin',\n",
    "    'sec-fetch-mode': 'cors',\n",
    "    'sec-fetch-dest': 'empty',\n",
    "    'referer': 'https://www.autolist.com/listings',\n",
    "    'accept-language': 'en-GB,en-US;q=0.9,en;q=0.8',\n",
    "    # Requests sorts cookies= alphabetically\n",
    "    # 'cookie': 'ec=eyJlZGdlVXNlckFnZW50IjoiTW96aWxsYS81LjAgKFgxMTsgTGludXggeDg2XzY0KSBBcHBsZVdlYktpdC81MzcuMzYgKEtIVE1MLCBsaWtlIEdlY2tvKSBDaHJvbWUvOTkuMC40ODQ0LjUxIFNhZmFyaS81MzcuMzYifQ==; client_guid_timestamp=f50f959c-c073-402d-8023-c9c017d3933e.1656158421008; _fbp=fb.1.1656158422343.1602497926',\n",
    "}\n",
    "\n",
    "response = requests.get('https://www.autolist.com/api/cwv/seo/listings?make=Tesla&location=San%20Francisco,%20CA&latitude=37.7749295&longitude=-122.4194155&radius=50&page=2', cookies=cookies, headers=headers)"
   ]
  },
  {
   "cell_type": "code",
   "execution_count": 23,
   "id": "7cdb7c12-c37f-41ac-8208-2df380907082",
   "metadata": {},
   "outputs": [
    {
     "data": {
      "text/plain": [
       "<Response [200]>"
      ]
     },
     "execution_count": 23,
     "metadata": {},
     "output_type": "execute_result"
    }
   ],
   "source": [
    "response"
   ]
  },
  {
   "cell_type": "code",
   "execution_count": 16,
   "id": "c02b3493-04db-49cd-a5b4-eaf05cb596cf",
   "metadata": {},
   "outputs": [],
   "source": [
    "autolist_results = response.json()"
   ]
  },
  {
   "cell_type": "code",
   "execution_count": 17,
   "id": "46d0fa0a-fc8a-4de5-a113-f9e705f9960c",
   "metadata": {},
   "outputs": [
    {
     "data": {
      "text/plain": [
       "dict_keys(['total_results_count', 'make_model_name', 'trims', 'ad_info', 'search_results', 'html'])"
      ]
     },
     "execution_count": 17,
     "metadata": {},
     "output_type": "execute_result"
    }
   ],
   "source": [
    "autolist_results.keys()"
   ]
  },
  {
   "cell_type": "code",
   "execution_count": 18,
   "id": "15257aae-c02d-4425-8f1b-6c5d9150ad0b",
   "metadata": {},
   "outputs": [],
   "source": [
    "results = autolist_results['search_results']"
   ]
  },
  {
   "cell_type": "code",
   "execution_count": 21,
   "id": "6150c7b5-2b86-45fc-805b-d8335419ebaa",
   "metadata": {},
   "outputs": [],
   "source": [
    "make = results[0]['make']\n",
    "model = results[0]['model']\n",
    "trim = results[0]['trim']"
   ]
  },
  {
   "cell_type": "code",
   "execution_count": 22,
   "id": "1aefc598-0acb-4502-b5dc-d72f7df22fc8",
   "metadata": {},
   "outputs": [
    {
     "data": {
      "text/plain": [
       "'Tesla Model 3 Standard Range Plus'"
      ]
     },
     "execution_count": 22,
     "metadata": {},
     "output_type": "execute_result"
    }
   ],
   "source": [
    "make + \" \" + model + \" \" + trim"
   ]
  },
  {
   "cell_type": "code",
   "execution_count": 24,
   "id": "bd85fd68-cfce-4b72-8dca-825fd17b4a5c",
   "metadata": {},
   "outputs": [],
   "source": [
    "# model\n",
    "model = results[0]['model']\n",
    "# mileage\n",
    "mileage = results[0]['mileage']\n",
    "# year\n",
    "year = results[0]['year']\n",
    "# dealer name\n",
    "dealer_name = results[0]['dealer_name']\n",
    "# price\n",
    "price = results[0]['price']"
   ]
  },
  {
   "cell_type": "code",
   "execution_count": 31,
   "id": "6881031c-2385-4f1f-b064-fa344c68d649",
   "metadata": {
    "scrolled": true,
    "tags": []
   },
   "outputs": [
    {
     "name": "stdout",
     "output_type": "stream",
     "text": [
      "{'model': 'Model 3', 'mileage': '27,259 Miles', 'year': 2020, 'dealer_name': 'Shift SF - Test Drives Delivered To You', 'price': '$47,450'}\n",
      "\n",
      "{'model': 'Model S', 'mileage': '25,106 Miles', 'year': 2019, 'dealer_name': 'Shift SF - Test Drives Delivered To You', 'price': '$75,950'}\n",
      "\n",
      "{'model': 'Model X', 'mileage': '49,648 Miles', 'year': 2017, 'dealer_name': 'Shift SF - Test Drives Delivered To You', 'price': '$75,950'}\n",
      "\n",
      "{'model': 'Model X', 'mileage': '31,785 Miles', 'year': 2017, 'dealer_name': 'Shift SF - Test Drives Delivered To You', 'price': '$75,950'}\n",
      "\n",
      "{'model': 'Model 3', 'mileage': '36,924 Miles', 'year': 2019, 'dealer_name': 'Shift SF - Test Drives Delivered To You', 'price': '$51,950'}\n",
      "\n",
      "{'model': 'Model 3', 'mileage': '4,963 Miles', 'year': 2020, 'dealer_name': 'San Jose Mitsubishi', 'price': '$61,497'}\n",
      "\n",
      "{'model': 'Model S', 'mileage': '45,600 Miles', 'year': 2018, 'dealer_name': 'San Jose Mitsubishi', 'price': '$58,497'}\n",
      "\n",
      "{'model': 'Model 3', 'mileage': '14,266 Miles', 'year': 2020, 'dealer_name': 'Shift SF - Test Drives Delivered To You', 'price': '$55,950'}\n",
      "\n",
      "{'model': 'Model 3', 'mileage': '4,407 Miles', 'year': 2021, 'dealer_name': 'Shift SF - Test Drives Delivered To You', 'price': '$68,950'}\n",
      "\n",
      "{'model': 'Model 3', 'mileage': '25,203 Miles', 'year': 2019, 'dealer_name': 'INFINITI Of Marin', 'price': '$49,990'}\n",
      "\n",
      "{'model': 'Model S', 'mileage': '35,386 Miles', 'year': 2016, 'dealer_name': 'Livermore Ford Lincoln', 'price': '$66,989'}\n",
      "\n",
      "{'model': 'Model X', 'mileage': '34,207 Miles', 'year': 2017, 'dealer_name': 'Elite Motor Cars', 'price': '$83,990'}\n",
      "\n",
      "{'model': 'Model 3', 'mileage': '50,420 Miles', 'year': 2019, 'dealer_name': 'Shift SF - Test Drives Delivered To You', 'price': '$44,950'}\n",
      "\n",
      "{'model': 'Model X', 'mileage': '38,171 Miles', 'year': 2016, 'dealer_name': 'Shift SF - Test Drives Delivered To You', 'price': '$69,950'}\n",
      "\n",
      "{'model': 'Model 3', 'mileage': '37,207 Miles', 'year': 2019, 'dealer_name': 'Shift SF - Test Drives Delivered To You', 'price': '$46,950'}\n",
      "\n",
      "{'model': 'Model 3', 'mileage': '17,637 Miles', 'year': 2021, 'dealer_name': 'Premier Nissan Of San Jose', 'price': '$52,884'}\n",
      "\n",
      "{'model': 'Model 3', 'mileage': '30,403 Miles', 'year': 2018, 'dealer_name': 'Shift SF - Test Drives Delivered To You', 'price': '$47,950'}\n",
      "\n",
      "{'model': 'Model S', 'mileage': '46,181 Miles', 'year': 2018, 'dealer_name': 'AutoLinx Inc.', 'price': '$62,988'}\n",
      "\n",
      "{'model': 'Model 3', 'mileage': '35,827 Miles', 'year': 2019, 'dealer_name': 'Shift SF - Test Drives Delivered To You', 'price': '$51,450'}\n",
      "\n",
      "{'model': 'Model S', 'mileage': '44,448 Miles', 'year': 2018, 'dealer_name': 'Manly Honda', 'price': '$61,000'}\n",
      "\n"
     ]
    }
   ],
   "source": [
    "for result in results:\n",
    "    model = result['model']\n",
    "    mileage = result['mileage']\n",
    "    year = result['year']\n",
    "    dealer_name = result['dealer_name']\n",
    "    price = result['price']\n",
    "    \n",
    "    autolist_dict = {\n",
    "        'model': model,\n",
    "        'mileage': mileage,\n",
    "        'year': year,\n",
    "        'dealer_name': dealer_name,\n",
    "        'price': price\n",
    "    }\n",
    "    \n",
    "    print(autolist_dict)\n",
    "    print()"
   ]
  },
  {
   "cell_type": "code",
   "execution_count": 32,
   "id": "43c66831-466f-4afc-ba19-996e76abfd0e",
   "metadata": {},
   "outputs": [],
   "source": [
    "model = []\n",
    "mileage = []\n",
    "year = []\n",
    "dealer_name = []\n",
    "price = []"
   ]
  },
  {
   "cell_type": "code",
   "execution_count": 35,
   "id": "d8fa70cd-1da6-4d3c-9818-c56f44ad94e2",
   "metadata": {},
   "outputs": [],
   "source": [
    "autolist = []\n",
    "for result in results:\n",
    "    model = result['model']\n",
    "    mileage = result['mileage']\n",
    "    year = result['year']\n",
    "    dealer_name = result['dealer_name']\n",
    "    price = result['price']\n",
    "    \n",
    "    autolist_dict = {\n",
    "        'model': model,\n",
    "        'mileage': mileage,\n",
    "        'year': year,\n",
    "        'dealer_name': dealer_name,\n",
    "        'price': price\n",
    "    }\n",
    "    \n",
    "    autolist.append(autolist_dict)\n",
    "    \n",
    "    # print(autolist_dict)\n",
    "    # print()"
   ]
  },
  {
   "cell_type": "code",
   "execution_count": 36,
   "id": "e4b43808-4810-41b8-b971-edc1aa95316e",
   "metadata": {},
   "outputs": [
    {
     "data": {
      "text/html": [
       "<div>\n",
       "<style scoped>\n",
       "    .dataframe tbody tr th:only-of-type {\n",
       "        vertical-align: middle;\n",
       "    }\n",
       "\n",
       "    .dataframe tbody tr th {\n",
       "        vertical-align: top;\n",
       "    }\n",
       "\n",
       "    .dataframe thead th {\n",
       "        text-align: right;\n",
       "    }\n",
       "</style>\n",
       "<table border=\"1\" class=\"dataframe\">\n",
       "  <thead>\n",
       "    <tr style=\"text-align: right;\">\n",
       "      <th></th>\n",
       "      <th>model</th>\n",
       "      <th>mileage</th>\n",
       "      <th>year</th>\n",
       "      <th>dealer_name</th>\n",
       "      <th>price</th>\n",
       "    </tr>\n",
       "  </thead>\n",
       "  <tbody>\n",
       "    <tr>\n",
       "      <th>0</th>\n",
       "      <td>Model 3</td>\n",
       "      <td>27,259 Miles</td>\n",
       "      <td>2020</td>\n",
       "      <td>Shift SF - Test Drives Delivered To You</td>\n",
       "      <td>$47,450</td>\n",
       "    </tr>\n",
       "    <tr>\n",
       "      <th>1</th>\n",
       "      <td>Model S</td>\n",
       "      <td>25,106 Miles</td>\n",
       "      <td>2019</td>\n",
       "      <td>Shift SF - Test Drives Delivered To You</td>\n",
       "      <td>$75,950</td>\n",
       "    </tr>\n",
       "    <tr>\n",
       "      <th>2</th>\n",
       "      <td>Model X</td>\n",
       "      <td>49,648 Miles</td>\n",
       "      <td>2017</td>\n",
       "      <td>Shift SF - Test Drives Delivered To You</td>\n",
       "      <td>$75,950</td>\n",
       "    </tr>\n",
       "    <tr>\n",
       "      <th>3</th>\n",
       "      <td>Model X</td>\n",
       "      <td>31,785 Miles</td>\n",
       "      <td>2017</td>\n",
       "      <td>Shift SF - Test Drives Delivered To You</td>\n",
       "      <td>$75,950</td>\n",
       "    </tr>\n",
       "    <tr>\n",
       "      <th>4</th>\n",
       "      <td>Model 3</td>\n",
       "      <td>36,924 Miles</td>\n",
       "      <td>2019</td>\n",
       "      <td>Shift SF - Test Drives Delivered To You</td>\n",
       "      <td>$51,950</td>\n",
       "    </tr>\n",
       "    <tr>\n",
       "      <th>5</th>\n",
       "      <td>Model 3</td>\n",
       "      <td>4,963 Miles</td>\n",
       "      <td>2020</td>\n",
       "      <td>San Jose Mitsubishi</td>\n",
       "      <td>$61,497</td>\n",
       "    </tr>\n",
       "    <tr>\n",
       "      <th>6</th>\n",
       "      <td>Model S</td>\n",
       "      <td>45,600 Miles</td>\n",
       "      <td>2018</td>\n",
       "      <td>San Jose Mitsubishi</td>\n",
       "      <td>$58,497</td>\n",
       "    </tr>\n",
       "    <tr>\n",
       "      <th>7</th>\n",
       "      <td>Model 3</td>\n",
       "      <td>14,266 Miles</td>\n",
       "      <td>2020</td>\n",
       "      <td>Shift SF - Test Drives Delivered To You</td>\n",
       "      <td>$55,950</td>\n",
       "    </tr>\n",
       "    <tr>\n",
       "      <th>8</th>\n",
       "      <td>Model 3</td>\n",
       "      <td>4,407 Miles</td>\n",
       "      <td>2021</td>\n",
       "      <td>Shift SF - Test Drives Delivered To You</td>\n",
       "      <td>$68,950</td>\n",
       "    </tr>\n",
       "    <tr>\n",
       "      <th>9</th>\n",
       "      <td>Model 3</td>\n",
       "      <td>25,203 Miles</td>\n",
       "      <td>2019</td>\n",
       "      <td>INFINITI Of Marin</td>\n",
       "      <td>$49,990</td>\n",
       "    </tr>\n",
       "    <tr>\n",
       "      <th>10</th>\n",
       "      <td>Model S</td>\n",
       "      <td>35,386 Miles</td>\n",
       "      <td>2016</td>\n",
       "      <td>Livermore Ford Lincoln</td>\n",
       "      <td>$66,989</td>\n",
       "    </tr>\n",
       "    <tr>\n",
       "      <th>11</th>\n",
       "      <td>Model X</td>\n",
       "      <td>34,207 Miles</td>\n",
       "      <td>2017</td>\n",
       "      <td>Elite Motor Cars</td>\n",
       "      <td>$83,990</td>\n",
       "    </tr>\n",
       "    <tr>\n",
       "      <th>12</th>\n",
       "      <td>Model 3</td>\n",
       "      <td>50,420 Miles</td>\n",
       "      <td>2019</td>\n",
       "      <td>Shift SF - Test Drives Delivered To You</td>\n",
       "      <td>$44,950</td>\n",
       "    </tr>\n",
       "    <tr>\n",
       "      <th>13</th>\n",
       "      <td>Model X</td>\n",
       "      <td>38,171 Miles</td>\n",
       "      <td>2016</td>\n",
       "      <td>Shift SF - Test Drives Delivered To You</td>\n",
       "      <td>$69,950</td>\n",
       "    </tr>\n",
       "    <tr>\n",
       "      <th>14</th>\n",
       "      <td>Model 3</td>\n",
       "      <td>37,207 Miles</td>\n",
       "      <td>2019</td>\n",
       "      <td>Shift SF - Test Drives Delivered To You</td>\n",
       "      <td>$46,950</td>\n",
       "    </tr>\n",
       "    <tr>\n",
       "      <th>15</th>\n",
       "      <td>Model 3</td>\n",
       "      <td>17,637 Miles</td>\n",
       "      <td>2021</td>\n",
       "      <td>Premier Nissan Of San Jose</td>\n",
       "      <td>$52,884</td>\n",
       "    </tr>\n",
       "    <tr>\n",
       "      <th>16</th>\n",
       "      <td>Model 3</td>\n",
       "      <td>30,403 Miles</td>\n",
       "      <td>2018</td>\n",
       "      <td>Shift SF - Test Drives Delivered To You</td>\n",
       "      <td>$47,950</td>\n",
       "    </tr>\n",
       "    <tr>\n",
       "      <th>17</th>\n",
       "      <td>Model S</td>\n",
       "      <td>46,181 Miles</td>\n",
       "      <td>2018</td>\n",
       "      <td>AutoLinx Inc.</td>\n",
       "      <td>$62,988</td>\n",
       "    </tr>\n",
       "    <tr>\n",
       "      <th>18</th>\n",
       "      <td>Model 3</td>\n",
       "      <td>35,827 Miles</td>\n",
       "      <td>2019</td>\n",
       "      <td>Shift SF - Test Drives Delivered To You</td>\n",
       "      <td>$51,450</td>\n",
       "    </tr>\n",
       "    <tr>\n",
       "      <th>19</th>\n",
       "      <td>Model S</td>\n",
       "      <td>44,448 Miles</td>\n",
       "      <td>2018</td>\n",
       "      <td>Manly Honda</td>\n",
       "      <td>$61,000</td>\n",
       "    </tr>\n",
       "  </tbody>\n",
       "</table>\n",
       "</div>"
      ],
      "text/plain": [
       "      model       mileage  year                              dealer_name  \\\n",
       "0   Model 3  27,259 Miles  2020  Shift SF - Test Drives Delivered To You   \n",
       "1   Model S  25,106 Miles  2019  Shift SF - Test Drives Delivered To You   \n",
       "2   Model X  49,648 Miles  2017  Shift SF - Test Drives Delivered To You   \n",
       "3   Model X  31,785 Miles  2017  Shift SF - Test Drives Delivered To You   \n",
       "4   Model 3  36,924 Miles  2019  Shift SF - Test Drives Delivered To You   \n",
       "5   Model 3   4,963 Miles  2020                      San Jose Mitsubishi   \n",
       "6   Model S  45,600 Miles  2018                      San Jose Mitsubishi   \n",
       "7   Model 3  14,266 Miles  2020  Shift SF - Test Drives Delivered To You   \n",
       "8   Model 3   4,407 Miles  2021  Shift SF - Test Drives Delivered To You   \n",
       "9   Model 3  25,203 Miles  2019                        INFINITI Of Marin   \n",
       "10  Model S  35,386 Miles  2016                   Livermore Ford Lincoln   \n",
       "11  Model X  34,207 Miles  2017                         Elite Motor Cars   \n",
       "12  Model 3  50,420 Miles  2019  Shift SF - Test Drives Delivered To You   \n",
       "13  Model X  38,171 Miles  2016  Shift SF - Test Drives Delivered To You   \n",
       "14  Model 3  37,207 Miles  2019  Shift SF - Test Drives Delivered To You   \n",
       "15  Model 3  17,637 Miles  2021               Premier Nissan Of San Jose   \n",
       "16  Model 3  30,403 Miles  2018  Shift SF - Test Drives Delivered To You   \n",
       "17  Model S  46,181 Miles  2018                            AutoLinx Inc.   \n",
       "18  Model 3  35,827 Miles  2019  Shift SF - Test Drives Delivered To You   \n",
       "19  Model S  44,448 Miles  2018                              Manly Honda   \n",
       "\n",
       "      price  \n",
       "0   $47,450  \n",
       "1   $75,950  \n",
       "2   $75,950  \n",
       "3   $75,950  \n",
       "4   $51,950  \n",
       "5   $61,497  \n",
       "6   $58,497  \n",
       "7   $55,950  \n",
       "8   $68,950  \n",
       "9   $49,990  \n",
       "10  $66,989  \n",
       "11  $83,990  \n",
       "12  $44,950  \n",
       "13  $69,950  \n",
       "14  $46,950  \n",
       "15  $52,884  \n",
       "16  $47,950  \n",
       "17  $62,988  \n",
       "18  $51,450  \n",
       "19  $61,000  "
      ]
     },
     "execution_count": 36,
     "metadata": {},
     "output_type": "execute_result"
    }
   ],
   "source": [
    "pd.DataFrame(autolist)"
   ]
  },
  {
   "cell_type": "code",
   "execution_count": 38,
   "id": "d85a1f48-77ef-4748-9a94-1f4802b0ee53",
   "metadata": {},
   "outputs": [
    {
     "data": {
      "text/plain": [
       "True"
      ]
     },
     "execution_count": 38,
     "metadata": {},
     "output_type": "execute_result"
    }
   ],
   "source": [
    "response.status_code == 200"
   ]
  },
  {
   "cell_type": "code",
   "execution_count": null,
   "id": "09c7319e-9dc2-4117-8810-ea01995c64d9",
   "metadata": {},
   "outputs": [],
   "source": []
  },
  {
   "cell_type": "code",
   "execution_count": null,
   "id": "b4fad82c-0059-4c35-af73-5026dd0fd376",
   "metadata": {},
   "outputs": [],
   "source": []
  }
 ],
 "metadata": {
  "kernelspec": {
   "display_name": "Python 3 (ipykernel)",
   "language": "python",
   "name": "python3"
  },
  "language_info": {
   "codemirror_mode": {
    "name": "ipython",
    "version": 3
   },
   "file_extension": ".py",
   "mimetype": "text/x-python",
   "name": "python",
   "nbconvert_exporter": "python",
   "pygments_lexer": "ipython3",
   "version": "3.9.6"
  }
 },
 "nbformat": 4,
 "nbformat_minor": 5
}
