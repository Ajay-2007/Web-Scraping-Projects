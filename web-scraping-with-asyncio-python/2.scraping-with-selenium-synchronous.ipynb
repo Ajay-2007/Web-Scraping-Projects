{
 "cells": [
  {
   "cell_type": "markdown",
   "id": "bac9dd6a-5a6f-4a5a-b481-d69b7d1ac3c3",
   "metadata": {},
   "source": [
    "# Scraping with Selenium - Synchronous"
   ]
  },
  {
   "cell_type": "code",
   "execution_count": 1,
   "id": "0244f0e6-c6c0-4190-80f2-1f7b3e1118f9",
   "metadata": {},
   "outputs": [],
   "source": [
    "url = 'https://www.spoonflower.com/en/shop?on=fabric'"
   ]
  },
  {
   "cell_type": "code",
   "execution_count": 2,
   "id": "cc75b723-fb39-4c24-8836-a04eb1498d01",
   "metadata": {},
   "outputs": [],
   "source": [
    "import re\n",
    "from requests_html import HTML\n",
    "\n",
    "from selenium import webdriver\n",
    "from selenium.webdriver.chrome.options import Options"
   ]
  },
  {
   "cell_type": "code",
   "execution_count": null,
   "id": "72a4a3b5-3363-4d68-a0b2-277effba2876",
   "metadata": {},
   "outputs": [],
   "source": []
  },
  {
   "cell_type": "code",
   "execution_count": null,
   "id": "09dbea5b-9386-41b7-a60a-a61d0fd67bda",
   "metadata": {},
   "outputs": [],
   "source": []
  },
  {
   "cell_type": "code",
   "execution_count": null,
   "id": "f8b1e51a-3cd6-4949-97c4-6cc202e53e31",
   "metadata": {},
   "outputs": [],
   "source": []
  },
  {
   "cell_type": "code",
   "execution_count": null,
   "id": "1a7dfea5-21dc-43b6-a95f-2b64f5a771f1",
   "metadata": {},
   "outputs": [],
   "source": []
  }
 ],
 "metadata": {
  "kernelspec": {
   "display_name": "Python 3 (ipykernel)",
   "language": "python",
   "name": "python3"
  },
  "language_info": {
   "codemirror_mode": {
    "name": "ipython",
    "version": 3
   },
   "file_extension": ".py",
   "mimetype": "text/x-python",
   "name": "python",
   "nbconvert_exporter": "python",
   "pygments_lexer": "ipython3",
   "version": "3.9.6"
  }
 },
 "nbformat": 4,
 "nbformat_minor": 5
}
