{
 "cells": [
  {
   "cell_type": "code",
   "execution_count": 1,
   "id": "f2087bf8",
   "metadata": {},
   "outputs": [],
   "source": [
    "#!pip install requests-html selenium arsenic pandas"
   ]
  },
  {
   "cell_type": "markdown",
   "id": "4f737845",
   "metadata": {},
   "source": [
    "# Sync vs Async"
   ]
  },
  {
   "cell_type": "code",
   "execution_count": 2,
   "id": "2bea273d",
   "metadata": {},
   "outputs": [
    {
     "name": "stdout",
     "output_type": "stream",
     "text": [
      "0\t1s\n",
      "2\t2s\n",
      "3\t4s\n",
      "CPU times: user 4.86 ms, sys: 4.14 ms, total: 9 ms\n",
      "Wall time: 10 s\n"
     ]
    }
   ],
   "source": [
    "%%time\n",
    "\n",
    "\n",
    "import time\n",
    "\n",
    "iteration_times = [1, 3, 2, 4]\n",
    "\n",
    "def sleeper(seconds, i=-1):\n",
    "    if i != 1:\n",
    "        print(f\"{i}\\t{seconds}s\")\n",
    "    time.sleep(seconds)\n",
    "              \n",
    "              \n",
    "def run():\n",
    "    for i, second in enumerate(iteration_times):\n",
    "        sleeper(second, i=i)\n",
    "        \n",
    "run()"
   ]
  },
  {
   "cell_type": "code",
   "execution_count": 9,
   "id": "1b6bc298",
   "metadata": {},
   "outputs": [
    {
     "data": {
      "text/plain": [
       "'abc'"
      ]
     },
     "execution_count": 9,
     "metadata": {},
     "output_type": "execute_result"
    }
   ],
   "source": [
    "import asyncio\n",
    "\n",
    "async def a_sleeper(seconds):\n",
    "    await asyncio.sleep(seconds)\n",
    "    return \"abc\"\n",
    "\n",
    "await a_sleeper(1)"
   ]
  },
  {
   "cell_type": "code",
   "execution_count": 16,
   "id": "2951866f",
   "metadata": {},
   "outputs": [
    {
     "name": "stdout",
     "output_type": "stream",
     "text": [
      "0\t1s\n",
      "2\t2s\n",
      "3\t4s\n",
      "10.012470483779907\n"
     ]
    }
   ],
   "source": [
    "start = time.time()\n",
    "import asyncio\n",
    "\n",
    "iteration_times = [1, 3, 2, 4]\n",
    "async def a_sleeper(seconds, i = -1):\n",
    "    if i != 1:\n",
    "        print(f\"{i}\\t{seconds}s\")\n",
    "    await asyncio.sleep(seconds)\n",
    "    return \"abc\"\n",
    "\n",
    "async def run():\n",
    "    for i, second in enumerate(iteration_times):\n",
    "        await a_sleeper(second, i=i)\n",
    "        \n",
    "await run()\n",
    "\n",
    "end = time.time() - start\n",
    "\n",
    "print(end)"
   ]
  },
  {
   "cell_type": "code",
   "execution_count": 22,
   "id": "8af48cf0",
   "metadata": {},
   "outputs": [
    {
     "name": "stdout",
     "output_type": "stream",
     "text": [
      "[<Task pending name='Task-32' coro=<a_sleeper() running at <ipython-input-22-dc1305281078>:5>>, <Task pending name='Task-33' coro=<a_sleeper() running at <ipython-input-22-dc1305281078>:5>>, <Task pending name='Task-34' coro=<a_sleeper() running at <ipython-input-22-dc1305281078>:5>>, <Task pending name='Task-35' coro=<a_sleeper() running at <ipython-input-22-dc1305281078>:5>>]\n",
      "0.0008857250213623047\n",
      "0\t1s\n",
      "2\t2s\n",
      "3\t1s\n",
      "0 done 1.0028815269470215\n",
      "3 done 1.0031728744506836\n",
      "2 done 2.0026004314422607\n",
      "1 done 3.003267288208008\n"
     ]
    }
   ],
   "source": [
    "start = time.time()\n",
    "import asyncio\n",
    "\n",
    "iteration_times = [1, 3, 2, 1]\n",
    "async def a_sleeper(seconds, i = -1):\n",
    "    if i != 1:\n",
    "        print(f\"{i}\\t{seconds}s\")\n",
    "    await asyncio.sleep(seconds) # coroutine\n",
    "    ellap = time.time() - start\n",
    "    print(f\"{i} done {ellap}\")\n",
    "    return \"abc\"\n",
    "\n",
    "async def a_run():\n",
    "    results = []\n",
    "    for i, second in enumerate(iteration_times):\n",
    "        results.append(asyncio.create_task(a_sleeper(second, i=i)))\n",
    "    \n",
    "    return results\n",
    "results = await a_run()\n",
    "print(results)\n",
    "\n",
    "\n",
    "end = time.time() - start\n",
    "\n",
    "print(end)"
   ]
  },
  {
   "cell_type": "markdown",
   "id": "6cd4db6e-e1df-4646-b0ac-fed1ecb56321",
   "metadata": {},
   "source": [
    "# Blocking & Timeouts"
   ]
  },
  {
   "cell_type": "code",
   "execution_count": 24,
   "id": "c74f17f5-86b0-442d-8c9f-0f2ab6da1492",
   "metadata": {},
   "outputs": [],
   "source": [
    "def sleeper(seconds, i=-1):\n",
    "    if i != -1:\n",
    "        print(f\"{i}\\t{seconds}s\")\n",
    "    time.sleep(seconds)\n",
    "    \n",
    "sleeper(12)"
   ]
  },
  {
   "cell_type": "code",
   "execution_count": 40,
   "id": "ecaba032-ab77-4263-aa4c-72591e520d58",
   "metadata": {},
   "outputs": [
    {
     "ename": "TimeoutError",
     "evalue": "",
     "output_type": "error",
     "traceback": [
      "\u001b[0;31m---------------------------------------------------------------------------\u001b[0m",
      "\u001b[0;31mTimeoutError\u001b[0m                              Traceback (most recent call last)",
      "\u001b[0;32m<ipython-input-40-2c7d88745045>\u001b[0m in \u001b[0;36m<module>\u001b[0;34m\u001b[0m\n\u001b[1;32m      5\u001b[0m     \u001b[0;32mawait\u001b[0m \u001b[0masyncio\u001b[0m\u001b[0;34m.\u001b[0m\u001b[0mwait_for\u001b[0m\u001b[0;34m(\u001b[0m\u001b[0masyncio\u001b[0m\u001b[0;34m.\u001b[0m\u001b[0msleep\u001b[0m\u001b[0;34m(\u001b[0m\u001b[0mseconds\u001b[0m\u001b[0;34m)\u001b[0m\u001b[0;34m,\u001b[0m \u001b[0mtimeout\u001b[0m\u001b[0;34m=\u001b[0m\u001b[0mtimeout\u001b[0m\u001b[0;34m)\u001b[0m\u001b[0;34m\u001b[0m\u001b[0;34m\u001b[0m\u001b[0m\n\u001b[1;32m      6\u001b[0m \u001b[0;34m\u001b[0m\u001b[0m\n\u001b[0;32m----> 7\u001b[0;31m \u001b[0;32mawait\u001b[0m \u001b[0masleeper\u001b[0m\u001b[0;34m(\u001b[0m\u001b[0;36m12\u001b[0m\u001b[0;34m,\u001b[0m \u001b[0mtimeout\u001b[0m\u001b[0;34m=\u001b[0m\u001b[0;36m1\u001b[0m\u001b[0;34m)\u001b[0m\u001b[0;34m\u001b[0m\u001b[0;34m\u001b[0m\u001b[0m\n\u001b[0m",
      "\u001b[0;32m<ipython-input-40-2c7d88745045>\u001b[0m in \u001b[0;36masleeper\u001b[0;34m(seconds, i, timeout)\u001b[0m\n\u001b[1;32m      3\u001b[0m     \u001b[0;32mif\u001b[0m \u001b[0mi\u001b[0m \u001b[0;34m!=\u001b[0m \u001b[0;34m-\u001b[0m\u001b[0;36m1\u001b[0m\u001b[0;34m:\u001b[0m\u001b[0;34m\u001b[0m\u001b[0;34m\u001b[0m\u001b[0m\n\u001b[1;32m      4\u001b[0m         \u001b[0mprint\u001b[0m\u001b[0;34m(\u001b[0m\u001b[0;34mf\"a{i}\\t{secondss}\"\u001b[0m\u001b[0;34m)\u001b[0m\u001b[0;34m\u001b[0m\u001b[0;34m\u001b[0m\u001b[0m\n\u001b[0;32m----> 5\u001b[0;31m     \u001b[0;32mawait\u001b[0m \u001b[0masyncio\u001b[0m\u001b[0;34m.\u001b[0m\u001b[0mwait_for\u001b[0m\u001b[0;34m(\u001b[0m\u001b[0masyncio\u001b[0m\u001b[0;34m.\u001b[0m\u001b[0msleep\u001b[0m\u001b[0;34m(\u001b[0m\u001b[0mseconds\u001b[0m\u001b[0;34m)\u001b[0m\u001b[0;34m,\u001b[0m \u001b[0mtimeout\u001b[0m\u001b[0;34m=\u001b[0m\u001b[0mtimeout\u001b[0m\u001b[0;34m)\u001b[0m\u001b[0;34m\u001b[0m\u001b[0;34m\u001b[0m\u001b[0m\n\u001b[0m\u001b[1;32m      6\u001b[0m \u001b[0;34m\u001b[0m\u001b[0m\n\u001b[1;32m      7\u001b[0m \u001b[0;32mawait\u001b[0m \u001b[0masleeper\u001b[0m\u001b[0;34m(\u001b[0m\u001b[0;36m12\u001b[0m\u001b[0;34m,\u001b[0m \u001b[0mtimeout\u001b[0m\u001b[0;34m=\u001b[0m\u001b[0;36m1\u001b[0m\u001b[0;34m)\u001b[0m\u001b[0;34m\u001b[0m\u001b[0;34m\u001b[0m\u001b[0m\n",
      "\u001b[0;32m~/miniconda/envs/freqtrade-conda-short/lib/python3.8/asyncio/tasks.py\u001b[0m in \u001b[0;36mwait_for\u001b[0;34m(fut, timeout, loop)\u001b[0m\n\u001b[1;32m    499\u001b[0m             \u001b[0;31m# See https://bugs.python.org/issue32751\u001b[0m\u001b[0;34m\u001b[0m\u001b[0;34m\u001b[0m\u001b[0;34m\u001b[0m\u001b[0m\n\u001b[1;32m    500\u001b[0m             \u001b[0;32mawait\u001b[0m \u001b[0m_cancel_and_wait\u001b[0m\u001b[0;34m(\u001b[0m\u001b[0mfut\u001b[0m\u001b[0;34m,\u001b[0m \u001b[0mloop\u001b[0m\u001b[0;34m=\u001b[0m\u001b[0mloop\u001b[0m\u001b[0;34m)\u001b[0m\u001b[0;34m\u001b[0m\u001b[0;34m\u001b[0m\u001b[0m\n\u001b[0;32m--> 501\u001b[0;31m             \u001b[0;32mraise\u001b[0m \u001b[0mexceptions\u001b[0m\u001b[0;34m.\u001b[0m\u001b[0mTimeoutError\u001b[0m\u001b[0;34m(\u001b[0m\u001b[0;34m)\u001b[0m\u001b[0;34m\u001b[0m\u001b[0;34m\u001b[0m\u001b[0m\n\u001b[0m\u001b[1;32m    502\u001b[0m     \u001b[0;32mfinally\u001b[0m\u001b[0;34m:\u001b[0m\u001b[0;34m\u001b[0m\u001b[0;34m\u001b[0m\u001b[0m\n\u001b[1;32m    503\u001b[0m         \u001b[0mtimeout_handle\u001b[0m\u001b[0;34m.\u001b[0m\u001b[0mcancel\u001b[0m\u001b[0;34m(\u001b[0m\u001b[0;34m)\u001b[0m\u001b[0;34m\u001b[0m\u001b[0;34m\u001b[0m\u001b[0m\n",
      "\u001b[0;31mTimeoutError\u001b[0m: "
     ]
    }
   ],
   "source": [
    "async def  asleeper(seconds, i=-1, timeout=4):\n",
    "    # time.sleep(seconds)\n",
    "    if i != -1:\n",
    "        print(f\"a{i}\\t{secondss}\")\n",
    "    await asyncio.wait_for(asyncio.sleep(seconds), timeout=timeout)\n",
    "    \n",
    "await asleeper(12, timeout=1)"
   ]
  },
  {
   "cell_type": "code",
   "execution_count": 41,
   "id": "db47f62a-502e-44d7-b995-109576adb215",
   "metadata": {},
   "outputs": [
    {
     "name": "stdout",
     "output_type": "stream",
     "text": [
      "hello word\n"
     ]
    }
   ],
   "source": [
    "print(\"hello word\")"
   ]
  },
  {
   "cell_type": "code",
   "execution_count": 27,
   "id": "e446e609-6405-4341-bbf4-fad0ceb449b8",
   "metadata": {},
   "outputs": [
    {
     "data": {
      "text/plain": [
       "<Task pending name='Task-37' coro=<asleeper() running at <ipython-input-25-da4f2d0376b2>:1>>"
      ]
     },
     "execution_count": 27,
     "metadata": {},
     "output_type": "execute_result"
    }
   ],
   "source": [
    "loop = asyncio.get_event_loop()\n",
    "\n",
    "# loop = asyncio.new_event_loop()\n",
    "# asyncio.run()\n",
    "\n",
    "loop.create_task(asleeper(123))"
   ]
  },
  {
   "cell_type": "code",
   "execution_count": 28,
   "id": "39afefdd-0967-47f3-946a-6060fef12218",
   "metadata": {},
   "outputs": [
    {
     "name": "stdout",
     "output_type": "stream",
     "text": [
      "hello word\n"
     ]
    }
   ],
   "source": [
    "print(\"hello word\")"
   ]
  },
  {
   "cell_type": "code",
   "execution_count": 31,
   "id": "9d699706-8037-4db2-b33e-9716415c68dc",
   "metadata": {},
   "outputs": [
    {
     "data": {
      "text/plain": [
       "({<Task finished name='Task-40' coro=<asleeper() done, defined at <ipython-input-29-da4f2d0376b2>:1> result=None>},\n",
       " {<Task pending name='Task-41' coro=<asleeper() running at <ipython-input-29-da4f2d0376b2>:5> wait_for=<Future pending cb=[<TaskWakeupMethWrapper object at 0x7f8608d6eb80>()]>>})"
      ]
     },
     "execution_count": 31,
     "metadata": {},
     "output_type": "execute_result"
    }
   ],
   "source": [
    "done, pending = await asyncio.wait([asleeper(1), asleeper(123)], timeout=2)\n",
    "done, pending"
   ]
  },
  {
   "cell_type": "code",
   "execution_count": 32,
   "id": "cb0208d8-956a-4f06-995e-bbaa616688ab",
   "metadata": {},
   "outputs": [
    {
     "data": {
      "text/plain": [
       "{<Task finished name='Task-40' coro=<asleeper() done, defined at <ipython-input-29-da4f2d0376b2>:1> result=None>}"
      ]
     },
     "execution_count": 32,
     "metadata": {},
     "output_type": "execute_result"
    }
   ],
   "source": [
    "done"
   ]
  },
  {
   "cell_type": "code",
   "execution_count": 33,
   "id": "2e2dfc21-60b5-4e94-a125-ac06f8ce8c19",
   "metadata": {},
   "outputs": [
    {
     "data": {
      "text/plain": [
       "{<Task pending name='Task-41' coro=<asleeper() running at <ipython-input-29-da4f2d0376b2>:5> wait_for=<Future pending cb=[<TaskWakeupMethWrapper object at 0x7f8608d6eb80>()]>>}"
      ]
     },
     "execution_count": 33,
     "metadata": {},
     "output_type": "execute_result"
    }
   ],
   "source": [
    "pending"
   ]
  },
  {
   "cell_type": "code",
   "execution_count": 34,
   "id": "dba209a8-bf5a-44df-8eeb-15b27cb09357",
   "metadata": {},
   "outputs": [
    {
     "data": {
      "text/plain": [
       "({<Task finished name='Task-41' coro=<asleeper() done, defined at <ipython-input-29-da4f2d0376b2>:1> result=None>},\n",
       " set())"
      ]
     },
     "execution_count": 34,
     "metadata": {},
     "output_type": "execute_result"
    }
   ],
   "source": [
    "await asyncio.wait(pending)"
   ]
  },
  {
   "cell_type": "code",
   "execution_count": 36,
   "id": "39ad642f-8125-45d3-8ef3-eb3db05dbfd5",
   "metadata": {},
   "outputs": [
    {
     "ename": "TimeoutError",
     "evalue": "",
     "output_type": "error",
     "traceback": [
      "\u001b[0;31m---------------------------------------------------------------------------\u001b[0m",
      "\u001b[0;31mTimeoutError\u001b[0m                              Traceback (most recent call last)",
      "\u001b[0;32m<ipython-input-36-05fcc47660c2>\u001b[0m in \u001b[0;36m<module>\u001b[0;34m\u001b[0m\n\u001b[0;32m----> 1\u001b[0;31m \u001b[0;32mawait\u001b[0m \u001b[0masyncio\u001b[0m\u001b[0;34m.\u001b[0m\u001b[0mwait_for\u001b[0m\u001b[0;34m(\u001b[0m\u001b[0masleeper\u001b[0m\u001b[0;34m(\u001b[0m\u001b[0;36m5\u001b[0m\u001b[0;34m)\u001b[0m\u001b[0;34m,\u001b[0m \u001b[0mtimeout\u001b[0m\u001b[0;34m=\u001b[0m\u001b[0;36m3\u001b[0m\u001b[0;34m)\u001b[0m\u001b[0;34m\u001b[0m\u001b[0;34m\u001b[0m\u001b[0m\n\u001b[0m",
      "\u001b[0;32m~/miniconda/envs/freqtrade-conda-short/lib/python3.8/asyncio/tasks.py\u001b[0m in \u001b[0;36mwait_for\u001b[0;34m(fut, timeout, loop)\u001b[0m\n\u001b[1;32m    499\u001b[0m             \u001b[0;31m# See https://bugs.python.org/issue32751\u001b[0m\u001b[0;34m\u001b[0m\u001b[0;34m\u001b[0m\u001b[0;34m\u001b[0m\u001b[0m\n\u001b[1;32m    500\u001b[0m             \u001b[0;32mawait\u001b[0m \u001b[0m_cancel_and_wait\u001b[0m\u001b[0;34m(\u001b[0m\u001b[0mfut\u001b[0m\u001b[0;34m,\u001b[0m \u001b[0mloop\u001b[0m\u001b[0;34m=\u001b[0m\u001b[0mloop\u001b[0m\u001b[0;34m)\u001b[0m\u001b[0;34m\u001b[0m\u001b[0;34m\u001b[0m\u001b[0m\n\u001b[0;32m--> 501\u001b[0;31m             \u001b[0;32mraise\u001b[0m \u001b[0mexceptions\u001b[0m\u001b[0;34m.\u001b[0m\u001b[0mTimeoutError\u001b[0m\u001b[0;34m(\u001b[0m\u001b[0;34m)\u001b[0m\u001b[0;34m\u001b[0m\u001b[0;34m\u001b[0m\u001b[0m\n\u001b[0m\u001b[1;32m    502\u001b[0m     \u001b[0;32mfinally\u001b[0m\u001b[0;34m:\u001b[0m\u001b[0;34m\u001b[0m\u001b[0;34m\u001b[0m\u001b[0m\n\u001b[1;32m    503\u001b[0m         \u001b[0mtimeout_handle\u001b[0m\u001b[0;34m.\u001b[0m\u001b[0mcancel\u001b[0m\u001b[0;34m(\u001b[0m\u001b[0;34m)\u001b[0m\u001b[0;34m\u001b[0m\u001b[0;34m\u001b[0m\u001b[0m\n",
      "\u001b[0;31mTimeoutError\u001b[0m: "
     ]
    }
   ],
   "source": [
    "await asyncio.wait_for(asleeper(5), timeout=3)"
   ]
  },
  {
   "cell_type": "code",
   "execution_count": null,
   "id": "2c244e66-d506-4919-b490-c64c0a236d39",
   "metadata": {},
   "outputs": [
    {
     "name": "stdout",
     "output_type": "stream",
     "text": [
      "Task failed\n"
     ]
    }
   ],
   "source": [
    "try:\n",
    "    await asyncio.wait_for(asleeper(5), timeout=3)\n",
    "except asyncio.TimeoutError:\n",
    "    print(\"Task failed\")"
   ]
  },
  {
   "cell_type": "code",
   "execution_count": null,
   "id": "137b2918-0520-426f-be48-211525c5be82",
   "metadata": {},
   "outputs": [],
   "source": []
  },
  {
   "cell_type": "code",
   "execution_count": null,
   "id": "2bc4f855-7353-4653-9e90-7f32aad0dbda",
   "metadata": {},
   "outputs": [],
   "source": []
  },
  {
   "cell_type": "code",
   "execution_count": null,
   "id": "d26b1b06-e4aa-4dcf-a1e2-5d6e563228ae",
   "metadata": {},
   "outputs": [],
   "source": []
  },
  {
   "cell_type": "code",
   "execution_count": null,
   "id": "ce227beb-03b7-407a-a453-8005b198e00f",
   "metadata": {},
   "outputs": [],
   "source": []
  },
  {
   "cell_type": "code",
   "execution_count": null,
   "id": "0996a841",
   "metadata": {},
   "outputs": [],
   "source": []
  }
 ],
 "metadata": {
  "kernelspec": {
   "display_name": "Python 3 (ipykernel)",
   "language": "python",
   "name": "python3"
  },
  "language_info": {
   "codemirror_mode": {
    "name": "ipython",
    "version": 3
   },
   "file_extension": ".py",
   "mimetype": "text/x-python",
   "name": "python",
   "nbconvert_exporter": "python",
   "pygments_lexer": "ipython3",
   "version": "3.8.12"
  }
 },
 "nbformat": 4,
 "nbformat_minor": 5
}
